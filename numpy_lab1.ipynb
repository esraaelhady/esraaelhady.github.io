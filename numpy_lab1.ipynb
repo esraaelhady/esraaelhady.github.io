{
  "nbformat": 4,
  "nbformat_minor": 0,
  "metadata": {
    "colab": {
      "name": "numpy lab1.ipynb",
      "provenance": [],
      "authorship_tag": "ABX9TyNtA8yyaxw081A47ZJcVQPt",
      "include_colab_link": true
    },
    "kernelspec": {
      "name": "python3",
      "display_name": "Python 3"
    },
    "language_info": {
      "name": "python"
    },
    "accelerator": "GPU"
  },
  "cells": [
    {
      "cell_type": "markdown",
      "metadata": {
        "id": "view-in-github",
        "colab_type": "text"
      },
      "source": [
        "<a href=\"https://colab.research.google.com/github/esraaelhady/esraaelhady.github.io/blob/master/numpy_lab1.ipynb\" target=\"_parent\"><img src=\"https://colab.research.google.com/assets/colab-badge.svg\" alt=\"Open In Colab\"/></a>"
      ]
    },
    {
      "cell_type": "code",
      "execution_count": 3,
      "metadata": {
        "colab": {
          "base_uri": "https://localhost:8080/"
        },
        "id": "atKhLBE4Wgab",
        "outputId": "3224ac92-fc0e-480b-868b-a0a9f041125a"
      },
      "outputs": [
        {
          "output_type": "stream",
          "name": "stdout",
          "text": [
            "Requirement already satisfied: numpy in /usr/local/lib/python3.7/dist-packages (1.19.5)\n"
          ]
        }
      ],
      "source": [
        "!pip install numpy"
      ]
    },
    {
      "cell_type": "code",
      "source": [
        "import numpy as np\n",
        "arr1 = np.array([10,20,30,40])\n",
        "print(arr1)"
      ],
      "metadata": {
        "colab": {
          "base_uri": "https://localhost:8080/"
        },
        "id": "ZViqBTNLZytk",
        "outputId": "81b30af1-1513-4836-db33-9734e5ea8b79"
      },
      "execution_count": 6,
      "outputs": [
        {
          "output_type": "stream",
          "name": "stdout",
          "text": [
            "[10 20 30 40]\n"
          ]
        }
      ]
    },
    {
      "cell_type": "code",
      "source": [
        "arr2 = [10,20,30,40,50,60]\n",
        "print(arr2[0:2])"
      ],
      "metadata": {
        "colab": {
          "base_uri": "https://localhost:8080/"
        },
        "id": "Sxcd3cBQhOdD",
        "outputId": "a9d97826-ea2b-4ebd-f4d8-6e9bf474b7f4"
      },
      "execution_count": 7,
      "outputs": [
        {
          "output_type": "stream",
          "name": "stdout",
          "text": [
            "[10, 20]\n"
          ]
        }
      ]
    },
    {
      "cell_type": "code",
      "source": [
        "arr3=[[10,20,30],[40,50,60]]\n",
        "print(arr3)\n",
        "print(arr3[0][0])"
      ],
      "metadata": {
        "colab": {
          "base_uri": "https://localhost:8080/"
        },
        "id": "vdGGaEMBl5A5",
        "outputId": "6625c4de-f9d9-46b4-8a9c-bca05eca9fd2"
      },
      "execution_count": 15,
      "outputs": [
        {
          "output_type": "stream",
          "name": "stdout",
          "text": [
            "[[10, 20, 30], [40, 50, 60]]\n",
            "10\n"
          ]
        }
      ]
    },
    {
      "cell_type": "code",
      "source": [
        "print(np.zeros((3,3)))\n",
        "print(np.ones((3,3)))\n",
        "print(np.full((3,3),7))\n",
        "print(np.eye((3)))\n",
        "print(np.random.random((3,3)))"
      ],
      "metadata": {
        "colab": {
          "base_uri": "https://localhost:8080/"
        },
        "id": "r8ku4ek4nqYw",
        "outputId": "27248f9c-a280-4389-f18b-7027d5dc30bf"
      },
      "execution_count": 20,
      "outputs": [
        {
          "output_type": "stream",
          "name": "stdout",
          "text": [
            "[[0. 0. 0.]\n",
            " [0. 0. 0.]\n",
            " [0. 0. 0.]]\n",
            "[[1. 1. 1.]\n",
            " [1. 1. 1.]\n",
            " [1. 1. 1.]]\n",
            "[[7 7 7]\n",
            " [7 7 7]\n",
            " [7 7 7]]\n",
            "[[1. 0. 0.]\n",
            " [0. 1. 0.]\n",
            " [0. 0. 1.]]\n",
            "[[0.57543319 0.58020863 0.26664503]\n",
            " [0.93619976 0.73016598 0.60003106]\n",
            " [0.18770261 0.40855488 0.57408141]]\n"
          ]
        }
      ]
    },
    {
      "cell_type": "code",
      "source": [
        "f1=[[10,20,30],[40,50,60],[70,80,90]]\n",
        "f2=[[1,2,3],[4,5,6],[7,8,9]]\n",
        "print(np.multiply(f1,f2))"
      ],
      "metadata": {
        "colab": {
          "base_uri": "https://localhost:8080/"
        },
        "id": "Cba_HplJsrah",
        "outputId": "ff8fff55-33e4-413d-bd0b-7fc6bd9ea910"
      },
      "execution_count": 22,
      "outputs": [
        {
          "output_type": "stream",
          "name": "stdout",
          "text": [
            "[[ 10  40  90]\n",
            " [160 250 360]\n",
            " [490 640 810]]\n"
          ]
        }
      ]
    }
  ]
}